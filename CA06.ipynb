{
  "nbformat": 4,
  "nbformat_minor": 0,
  "metadata": {
    "colab": {
      "name": "CA06.ipynb",
      "provenance": []
    },
    "kernelspec": {
      "name": "python3",
      "display_name": "Python 3"
    },
    "language_info": {
      "name": "python"
    }
  },
  "cells": [
    {
      "cell_type": "markdown",
      "metadata": {
        "id": "TqB-uFgNOB6W"
      },
      "source": [
        "# Jack Taylor\n",
        "\n",
        "# CA06 - kNN Based Recommender Engine"
      ]
    },
    {
      "cell_type": "markdown",
      "metadata": {
        "id": "cL3rMCpmOZjf"
      },
      "source": [
        "# The Application\n",
        "\n",
        "At scale, this would look like recommending products on Amazon, articles on Medium, movies on Netflix, or videos on YouTube. Although, we can be certain they all use more efficient means of making recommendations due to the enormous volume of data they process. However, we could replicate one of these recommender systems on a smaller scale using what we have learned here in this article. Let us build the core of a movies recommender system.\n",
        "\n",
        "**What question are we trying to answer?**\n",
        "\n",
        "Given a movies data set, what are the 5 most similar movies to a movie query?\n"
      ]
    },
    {
      "cell_type": "markdown",
      "metadata": {
        "id": "Qkvlg6vfPAWp"
      },
      "source": [
        "# Data Source and Description\n",
        "\n",
        "Data File Name: movies_recommendation_data.csv\n",
        "\n",
        "File Location: https://github.com/ArinB/CA05-kNN/raw/master/movies_recommendation_data.csv"
      ]
    },
    {
      "cell_type": "markdown",
      "metadata": {
        "id": "yvkweMcePQXm"
      },
      "source": [
        "# Program Initialization Section\n",
        "\n",
        "**Enter you import packages here**"
      ]
    },
    {
      "cell_type": "code",
      "metadata": {
        "id": "a8JHNJMvNwSs"
      },
      "source": [
        "import pandas as pd\n",
        "\n",
        "import numpy as np\n",
        "\n",
        "from sklearn.neighbors import NearestNeighbors"
      ],
      "execution_count": 1,
      "outputs": []
    },
    {
      "cell_type": "markdown",
      "metadata": {
        "id": "XDFHDLpzPe56"
      },
      "source": [
        "# Data File Reading Section"
      ]
    },
    {
      "cell_type": "code",
      "metadata": {
        "colab": {
          "base_uri": "https://localhost:8080/",
          "height": 204
        },
        "id": "tS7tMBQAPi8f",
        "outputId": "ab0c123f-f126-494e-aebe-4c0f0e3a7678"
      },
      "source": [
        "data = pd.read_csv('https://github.com/ArinB/CA05-kNN/raw/master/movies_recommendation_data.csv')\n",
        "data.head()"
      ],
      "execution_count": 2,
      "outputs": [
        {
          "output_type": "execute_result",
          "data": {
            "text/html": [
              "<div>\n",
              "<style scoped>\n",
              "    .dataframe tbody tr th:only-of-type {\n",
              "        vertical-align: middle;\n",
              "    }\n",
              "\n",
              "    .dataframe tbody tr th {\n",
              "        vertical-align: top;\n",
              "    }\n",
              "\n",
              "    .dataframe thead th {\n",
              "        text-align: right;\n",
              "    }\n",
              "</style>\n",
              "<table border=\"1\" class=\"dataframe\">\n",
              "  <thead>\n",
              "    <tr style=\"text-align: right;\">\n",
              "      <th></th>\n",
              "      <th>Movie ID</th>\n",
              "      <th>Movie Name</th>\n",
              "      <th>IMDB Rating</th>\n",
              "      <th>Biography</th>\n",
              "      <th>Drama</th>\n",
              "      <th>Thriller</th>\n",
              "      <th>Comedy</th>\n",
              "      <th>Crime</th>\n",
              "      <th>Mystery</th>\n",
              "      <th>History</th>\n",
              "      <th>Label</th>\n",
              "    </tr>\n",
              "  </thead>\n",
              "  <tbody>\n",
              "    <tr>\n",
              "      <th>0</th>\n",
              "      <td>58</td>\n",
              "      <td>The Imitation Game</td>\n",
              "      <td>8.0</td>\n",
              "      <td>1</td>\n",
              "      <td>1</td>\n",
              "      <td>1</td>\n",
              "      <td>0</td>\n",
              "      <td>0</td>\n",
              "      <td>0</td>\n",
              "      <td>0</td>\n",
              "      <td>0</td>\n",
              "    </tr>\n",
              "    <tr>\n",
              "      <th>1</th>\n",
              "      <td>8</td>\n",
              "      <td>Ex Machina</td>\n",
              "      <td>7.7</td>\n",
              "      <td>0</td>\n",
              "      <td>1</td>\n",
              "      <td>0</td>\n",
              "      <td>0</td>\n",
              "      <td>0</td>\n",
              "      <td>1</td>\n",
              "      <td>0</td>\n",
              "      <td>0</td>\n",
              "    </tr>\n",
              "    <tr>\n",
              "      <th>2</th>\n",
              "      <td>46</td>\n",
              "      <td>A Beautiful Mind</td>\n",
              "      <td>8.2</td>\n",
              "      <td>1</td>\n",
              "      <td>1</td>\n",
              "      <td>0</td>\n",
              "      <td>0</td>\n",
              "      <td>0</td>\n",
              "      <td>0</td>\n",
              "      <td>0</td>\n",
              "      <td>0</td>\n",
              "    </tr>\n",
              "    <tr>\n",
              "      <th>3</th>\n",
              "      <td>62</td>\n",
              "      <td>Good Will Hunting</td>\n",
              "      <td>8.3</td>\n",
              "      <td>0</td>\n",
              "      <td>1</td>\n",
              "      <td>0</td>\n",
              "      <td>0</td>\n",
              "      <td>0</td>\n",
              "      <td>0</td>\n",
              "      <td>0</td>\n",
              "      <td>0</td>\n",
              "    </tr>\n",
              "    <tr>\n",
              "      <th>4</th>\n",
              "      <td>97</td>\n",
              "      <td>Forrest Gump</td>\n",
              "      <td>8.8</td>\n",
              "      <td>0</td>\n",
              "      <td>1</td>\n",
              "      <td>0</td>\n",
              "      <td>0</td>\n",
              "      <td>0</td>\n",
              "      <td>0</td>\n",
              "      <td>0</td>\n",
              "      <td>0</td>\n",
              "    </tr>\n",
              "  </tbody>\n",
              "</table>\n",
              "</div>"
            ],
            "text/plain": [
              "   Movie ID          Movie Name  IMDB Rating  ...  Mystery  History  Label\n",
              "0        58  The Imitation Game          8.0  ...        0        0      0\n",
              "1         8          Ex Machina          7.7  ...        1        0      0\n",
              "2        46    A Beautiful Mind          8.2  ...        0        0      0\n",
              "3        62   Good Will Hunting          8.3  ...        0        0      0\n",
              "4        97        Forrest Gump          8.8  ...        0        0      0\n",
              "\n",
              "[5 rows x 11 columns]"
            ]
          },
          "metadata": {
            "tags": []
          },
          "execution_count": 2
        }
      ]
    },
    {
      "cell_type": "markdown",
      "metadata": {
        "id": "gA_EJZDARxr9"
      },
      "source": [
        "# Initial Data Investigation Section\n",
        "\n",
        "**Summarized Details**\n",
        "\n",
        "Descriptive statistics that summarize the central tendency, dispersion, and shape of the dataset's distribution, exluding NaN values."
      ]
    },
    {
      "cell_type": "code",
      "metadata": {
        "colab": {
          "base_uri": "https://localhost:8080/",
          "height": 297
        },
        "id": "8CjGBZqnRxIP",
        "outputId": "cbb0c29e-28bf-4f5d-a68a-c7f7664c1c3c"
      },
      "source": [
        "#Statistical Description of data\n",
        "data.describe()"
      ],
      "execution_count": 3,
      "outputs": [
        {
          "output_type": "execute_result",
          "data": {
            "text/html": [
              "<div>\n",
              "<style scoped>\n",
              "    .dataframe tbody tr th:only-of-type {\n",
              "        vertical-align: middle;\n",
              "    }\n",
              "\n",
              "    .dataframe tbody tr th {\n",
              "        vertical-align: top;\n",
              "    }\n",
              "\n",
              "    .dataframe thead th {\n",
              "        text-align: right;\n",
              "    }\n",
              "</style>\n",
              "<table border=\"1\" class=\"dataframe\">\n",
              "  <thead>\n",
              "    <tr style=\"text-align: right;\">\n",
              "      <th></th>\n",
              "      <th>Movie ID</th>\n",
              "      <th>IMDB Rating</th>\n",
              "      <th>Biography</th>\n",
              "      <th>Drama</th>\n",
              "      <th>Thriller</th>\n",
              "      <th>Comedy</th>\n",
              "      <th>Crime</th>\n",
              "      <th>Mystery</th>\n",
              "      <th>History</th>\n",
              "      <th>Label</th>\n",
              "    </tr>\n",
              "  </thead>\n",
              "  <tbody>\n",
              "    <tr>\n",
              "      <th>count</th>\n",
              "      <td>30.000000</td>\n",
              "      <td>30.000000</td>\n",
              "      <td>30.000000</td>\n",
              "      <td>30.000000</td>\n",
              "      <td>30.000000</td>\n",
              "      <td>30.000000</td>\n",
              "      <td>30.000000</td>\n",
              "      <td>30.000000</td>\n",
              "      <td>30.000000</td>\n",
              "      <td>30.0</td>\n",
              "    </tr>\n",
              "    <tr>\n",
              "      <th>mean</th>\n",
              "      <td>48.133333</td>\n",
              "      <td>7.696667</td>\n",
              "      <td>0.233333</td>\n",
              "      <td>0.600000</td>\n",
              "      <td>0.100000</td>\n",
              "      <td>0.100000</td>\n",
              "      <td>0.133333</td>\n",
              "      <td>0.100000</td>\n",
              "      <td>0.100000</td>\n",
              "      <td>0.0</td>\n",
              "    </tr>\n",
              "    <tr>\n",
              "      <th>std</th>\n",
              "      <td>29.288969</td>\n",
              "      <td>0.666169</td>\n",
              "      <td>0.430183</td>\n",
              "      <td>0.498273</td>\n",
              "      <td>0.305129</td>\n",
              "      <td>0.305129</td>\n",
              "      <td>0.345746</td>\n",
              "      <td>0.305129</td>\n",
              "      <td>0.305129</td>\n",
              "      <td>0.0</td>\n",
              "    </tr>\n",
              "    <tr>\n",
              "      <th>min</th>\n",
              "      <td>1.000000</td>\n",
              "      <td>5.900000</td>\n",
              "      <td>0.000000</td>\n",
              "      <td>0.000000</td>\n",
              "      <td>0.000000</td>\n",
              "      <td>0.000000</td>\n",
              "      <td>0.000000</td>\n",
              "      <td>0.000000</td>\n",
              "      <td>0.000000</td>\n",
              "      <td>0.0</td>\n",
              "    </tr>\n",
              "    <tr>\n",
              "      <th>25%</th>\n",
              "      <td>27.750000</td>\n",
              "      <td>7.300000</td>\n",
              "      <td>0.000000</td>\n",
              "      <td>0.000000</td>\n",
              "      <td>0.000000</td>\n",
              "      <td>0.000000</td>\n",
              "      <td>0.000000</td>\n",
              "      <td>0.000000</td>\n",
              "      <td>0.000000</td>\n",
              "      <td>0.0</td>\n",
              "    </tr>\n",
              "    <tr>\n",
              "      <th>50%</th>\n",
              "      <td>48.500000</td>\n",
              "      <td>7.750000</td>\n",
              "      <td>0.000000</td>\n",
              "      <td>1.000000</td>\n",
              "      <td>0.000000</td>\n",
              "      <td>0.000000</td>\n",
              "      <td>0.000000</td>\n",
              "      <td>0.000000</td>\n",
              "      <td>0.000000</td>\n",
              "      <td>0.0</td>\n",
              "    </tr>\n",
              "    <tr>\n",
              "      <th>75%</th>\n",
              "      <td>64.250000</td>\n",
              "      <td>8.175000</td>\n",
              "      <td>0.000000</td>\n",
              "      <td>1.000000</td>\n",
              "      <td>0.000000</td>\n",
              "      <td>0.000000</td>\n",
              "      <td>0.000000</td>\n",
              "      <td>0.000000</td>\n",
              "      <td>0.000000</td>\n",
              "      <td>0.0</td>\n",
              "    </tr>\n",
              "    <tr>\n",
              "      <th>max</th>\n",
              "      <td>98.000000</td>\n",
              "      <td>8.800000</td>\n",
              "      <td>1.000000</td>\n",
              "      <td>1.000000</td>\n",
              "      <td>1.000000</td>\n",
              "      <td>1.000000</td>\n",
              "      <td>1.000000</td>\n",
              "      <td>1.000000</td>\n",
              "      <td>1.000000</td>\n",
              "      <td>0.0</td>\n",
              "    </tr>\n",
              "  </tbody>\n",
              "</table>\n",
              "</div>"
            ],
            "text/plain": [
              "        Movie ID  IMDB Rating  Biography  ...    Mystery    History  Label\n",
              "count  30.000000    30.000000  30.000000  ...  30.000000  30.000000   30.0\n",
              "mean   48.133333     7.696667   0.233333  ...   0.100000   0.100000    0.0\n",
              "std    29.288969     0.666169   0.430183  ...   0.305129   0.305129    0.0\n",
              "min     1.000000     5.900000   0.000000  ...   0.000000   0.000000    0.0\n",
              "25%    27.750000     7.300000   0.000000  ...   0.000000   0.000000    0.0\n",
              "50%    48.500000     7.750000   0.000000  ...   0.000000   0.000000    0.0\n",
              "75%    64.250000     8.175000   0.000000  ...   0.000000   0.000000    0.0\n",
              "max    98.000000     8.800000   1.000000  ...   1.000000   1.000000    0.0\n",
              "\n",
              "[8 rows x 10 columns]"
            ]
          },
          "metadata": {
            "tags": []
          },
          "execution_count": 3
        }
      ]
    },
    {
      "cell_type": "code",
      "metadata": {
        "colab": {
          "base_uri": "https://localhost:8080/"
        },
        "id": "svRxADEJST_d",
        "outputId": "5f4e5be0-90fb-4ad0-fecd-79bd0ec4ac6e"
      },
      "source": [
        "#Displaying number of total rows and columns of the dataset\n",
        "data.shape"
      ],
      "execution_count": 6,
      "outputs": [
        {
          "output_type": "execute_result",
          "data": {
            "text/plain": [
              "(30, 11)"
            ]
          },
          "metadata": {
            "tags": []
          },
          "execution_count": 6
        }
      ]
    },
    {
      "cell_type": "code",
      "metadata": {
        "colab": {
          "base_uri": "https://localhost:8080/"
        },
        "id": "U1jy_w0XSad1",
        "outputId": "60aa80d4-ec0d-493c-c9ac-2f2aff1d9a00"
      },
      "source": [
        "#Displaying number of non-null values for each column\n",
        "data.count()"
      ],
      "execution_count": 7,
      "outputs": [
        {
          "output_type": "execute_result",
          "data": {
            "text/plain": [
              "Movie ID       30\n",
              "Movie Name     30\n",
              "IMDB Rating    30\n",
              "Biography      30\n",
              "Drama          30\n",
              "Thriller       30\n",
              "Comedy         30\n",
              "Crime          30\n",
              "Mystery        30\n",
              "History        30\n",
              "Label          30\n",
              "dtype: int64"
            ]
          },
          "metadata": {
            "tags": []
          },
          "execution_count": 7
        }
      ]
    },
    {
      "cell_type": "code",
      "metadata": {
        "colab": {
          "base_uri": "https://localhost:8080/"
        },
        "id": "eoFKYM7HSjsk",
        "outputId": "d98f18d1-01c0-40f3-b67e-93dc51fd2a17"
      },
      "source": [
        "#Displaying number of null values for each column\n",
        "data.isnull().sum()"
      ],
      "execution_count": 8,
      "outputs": [
        {
          "output_type": "execute_result",
          "data": {
            "text/plain": [
              "Movie ID       0\n",
              "Movie Name     0\n",
              "IMDB Rating    0\n",
              "Biography      0\n",
              "Drama          0\n",
              "Thriller       0\n",
              "Comedy         0\n",
              "Crime          0\n",
              "Mystery        0\n",
              "History        0\n",
              "Label          0\n",
              "dtype: int64"
            ]
          },
          "metadata": {
            "tags": []
          },
          "execution_count": 8
        }
      ]
    },
    {
      "cell_type": "code",
      "metadata": {
        "colab": {
          "base_uri": "https://localhost:8080/"
        },
        "id": "PKkmTxrTSsSR",
        "outputId": "4e552415-8187-476f-8a5c-b16ec4778381"
      },
      "source": [
        "#Displaying range, column, number of non-null objects of each column, datatype and memory usage\n",
        "data.info()"
      ],
      "execution_count": 9,
      "outputs": [
        {
          "output_type": "stream",
          "text": [
            "<class 'pandas.core.frame.DataFrame'>\n",
            "RangeIndex: 30 entries, 0 to 29\n",
            "Data columns (total 11 columns):\n",
            " #   Column       Non-Null Count  Dtype  \n",
            "---  ------       --------------  -----  \n",
            " 0   Movie ID     30 non-null     int64  \n",
            " 1   Movie Name   30 non-null     object \n",
            " 2   IMDB Rating  30 non-null     float64\n",
            " 3   Biography    30 non-null     int64  \n",
            " 4   Drama        30 non-null     int64  \n",
            " 5   Thriller     30 non-null     int64  \n",
            " 6   Comedy       30 non-null     int64  \n",
            " 7   Crime        30 non-null     int64  \n",
            " 8   Mystery      30 non-null     int64  \n",
            " 9   History      30 non-null     int64  \n",
            " 10  Label        30 non-null     int64  \n",
            "dtypes: float64(1), int64(9), object(1)\n",
            "memory usage: 2.7+ KB\n"
          ],
          "name": "stdout"
        }
      ]
    },
    {
      "cell_type": "code",
      "metadata": {
        "colab": {
          "base_uri": "https://localhost:8080/",
          "height": 979
        },
        "id": "0M9QPpxSS5uS",
        "outputId": "9dd75655-8f30-47a3-f87d-0b245b72b84d"
      },
      "source": [
        "#Dropping 'Label' column bc it is irrelevant\n",
        "data.drop(columns='Label', inplace=True)"
      ],
      "execution_count": 9,
      "outputs": [
        {
          "output_type": "execute_result",
          "data": {
            "text/html": [
              "<div>\n",
              "<style scoped>\n",
              "    .dataframe tbody tr th:only-of-type {\n",
              "        vertical-align: middle;\n",
              "    }\n",
              "\n",
              "    .dataframe tbody tr th {\n",
              "        vertical-align: top;\n",
              "    }\n",
              "\n",
              "    .dataframe thead th {\n",
              "        text-align: right;\n",
              "    }\n",
              "</style>\n",
              "<table border=\"1\" class=\"dataframe\">\n",
              "  <thead>\n",
              "    <tr style=\"text-align: right;\">\n",
              "      <th></th>\n",
              "      <th>Movie ID</th>\n",
              "      <th>Movie Name</th>\n",
              "      <th>IMDB Rating</th>\n",
              "      <th>Biography</th>\n",
              "      <th>Drama</th>\n",
              "      <th>Thriller</th>\n",
              "      <th>Comedy</th>\n",
              "      <th>Crime</th>\n",
              "      <th>Mystery</th>\n",
              "      <th>History</th>\n",
              "    </tr>\n",
              "  </thead>\n",
              "  <tbody>\n",
              "    <tr>\n",
              "      <th>0</th>\n",
              "      <td>58</td>\n",
              "      <td>The Imitation Game</td>\n",
              "      <td>8.0</td>\n",
              "      <td>1</td>\n",
              "      <td>1</td>\n",
              "      <td>1</td>\n",
              "      <td>0</td>\n",
              "      <td>0</td>\n",
              "      <td>0</td>\n",
              "      <td>0</td>\n",
              "    </tr>\n",
              "    <tr>\n",
              "      <th>1</th>\n",
              "      <td>8</td>\n",
              "      <td>Ex Machina</td>\n",
              "      <td>7.7</td>\n",
              "      <td>0</td>\n",
              "      <td>1</td>\n",
              "      <td>0</td>\n",
              "      <td>0</td>\n",
              "      <td>0</td>\n",
              "      <td>1</td>\n",
              "      <td>0</td>\n",
              "    </tr>\n",
              "    <tr>\n",
              "      <th>2</th>\n",
              "      <td>46</td>\n",
              "      <td>A Beautiful Mind</td>\n",
              "      <td>8.2</td>\n",
              "      <td>1</td>\n",
              "      <td>1</td>\n",
              "      <td>0</td>\n",
              "      <td>0</td>\n",
              "      <td>0</td>\n",
              "      <td>0</td>\n",
              "      <td>0</td>\n",
              "    </tr>\n",
              "    <tr>\n",
              "      <th>3</th>\n",
              "      <td>62</td>\n",
              "      <td>Good Will Hunting</td>\n",
              "      <td>8.3</td>\n",
              "      <td>0</td>\n",
              "      <td>1</td>\n",
              "      <td>0</td>\n",
              "      <td>0</td>\n",
              "      <td>0</td>\n",
              "      <td>0</td>\n",
              "      <td>0</td>\n",
              "    </tr>\n",
              "    <tr>\n",
              "      <th>4</th>\n",
              "      <td>97</td>\n",
              "      <td>Forrest Gump</td>\n",
              "      <td>8.8</td>\n",
              "      <td>0</td>\n",
              "      <td>1</td>\n",
              "      <td>0</td>\n",
              "      <td>0</td>\n",
              "      <td>0</td>\n",
              "      <td>0</td>\n",
              "      <td>0</td>\n",
              "    </tr>\n",
              "    <tr>\n",
              "      <th>5</th>\n",
              "      <td>98</td>\n",
              "      <td>21</td>\n",
              "      <td>6.8</td>\n",
              "      <td>0</td>\n",
              "      <td>1</td>\n",
              "      <td>0</td>\n",
              "      <td>0</td>\n",
              "      <td>1</td>\n",
              "      <td>0</td>\n",
              "      <td>1</td>\n",
              "    </tr>\n",
              "    <tr>\n",
              "      <th>6</th>\n",
              "      <td>31</td>\n",
              "      <td>Gifted</td>\n",
              "      <td>7.6</td>\n",
              "      <td>0</td>\n",
              "      <td>1</td>\n",
              "      <td>0</td>\n",
              "      <td>0</td>\n",
              "      <td>0</td>\n",
              "      <td>0</td>\n",
              "      <td>0</td>\n",
              "    </tr>\n",
              "    <tr>\n",
              "      <th>7</th>\n",
              "      <td>3</td>\n",
              "      <td>Travelling Salesman</td>\n",
              "      <td>5.9</td>\n",
              "      <td>0</td>\n",
              "      <td>1</td>\n",
              "      <td>0</td>\n",
              "      <td>0</td>\n",
              "      <td>0</td>\n",
              "      <td>1</td>\n",
              "      <td>0</td>\n",
              "    </tr>\n",
              "    <tr>\n",
              "      <th>8</th>\n",
              "      <td>51</td>\n",
              "      <td>Avatar</td>\n",
              "      <td>7.9</td>\n",
              "      <td>0</td>\n",
              "      <td>0</td>\n",
              "      <td>0</td>\n",
              "      <td>0</td>\n",
              "      <td>0</td>\n",
              "      <td>0</td>\n",
              "      <td>0</td>\n",
              "    </tr>\n",
              "    <tr>\n",
              "      <th>9</th>\n",
              "      <td>47</td>\n",
              "      <td>The Karate Kid</td>\n",
              "      <td>7.2</td>\n",
              "      <td>0</td>\n",
              "      <td>1</td>\n",
              "      <td>0</td>\n",
              "      <td>0</td>\n",
              "      <td>0</td>\n",
              "      <td>0</td>\n",
              "      <td>0</td>\n",
              "    </tr>\n",
              "    <tr>\n",
              "      <th>10</th>\n",
              "      <td>50</td>\n",
              "      <td>A Brilliant Young Mind</td>\n",
              "      <td>7.2</td>\n",
              "      <td>0</td>\n",
              "      <td>1</td>\n",
              "      <td>0</td>\n",
              "      <td>0</td>\n",
              "      <td>0</td>\n",
              "      <td>0</td>\n",
              "      <td>0</td>\n",
              "    </tr>\n",
              "    <tr>\n",
              "      <th>11</th>\n",
              "      <td>49</td>\n",
              "      <td>A Time To Kill</td>\n",
              "      <td>7.4</td>\n",
              "      <td>0</td>\n",
              "      <td>1</td>\n",
              "      <td>1</td>\n",
              "      <td>0</td>\n",
              "      <td>1</td>\n",
              "      <td>0</td>\n",
              "      <td>0</td>\n",
              "    </tr>\n",
              "    <tr>\n",
              "      <th>12</th>\n",
              "      <td>30</td>\n",
              "      <td>Interstellar</td>\n",
              "      <td>8.6</td>\n",
              "      <td>0</td>\n",
              "      <td>1</td>\n",
              "      <td>0</td>\n",
              "      <td>0</td>\n",
              "      <td>0</td>\n",
              "      <td>0</td>\n",
              "      <td>0</td>\n",
              "    </tr>\n",
              "    <tr>\n",
              "      <th>13</th>\n",
              "      <td>94</td>\n",
              "      <td>The Wolf of Wall Street</td>\n",
              "      <td>8.2</td>\n",
              "      <td>1</td>\n",
              "      <td>0</td>\n",
              "      <td>0</td>\n",
              "      <td>1</td>\n",
              "      <td>1</td>\n",
              "      <td>0</td>\n",
              "      <td>0</td>\n",
              "    </tr>\n",
              "    <tr>\n",
              "      <th>14</th>\n",
              "      <td>6</td>\n",
              "      <td>Black Panther</td>\n",
              "      <td>7.4</td>\n",
              "      <td>0</td>\n",
              "      <td>0</td>\n",
              "      <td>0</td>\n",
              "      <td>0</td>\n",
              "      <td>0</td>\n",
              "      <td>0</td>\n",
              "      <td>0</td>\n",
              "    </tr>\n",
              "    <tr>\n",
              "      <th>15</th>\n",
              "      <td>73</td>\n",
              "      <td>Inception</td>\n",
              "      <td>8.8</td>\n",
              "      <td>0</td>\n",
              "      <td>0</td>\n",
              "      <td>0</td>\n",
              "      <td>0</td>\n",
              "      <td>0</td>\n",
              "      <td>0</td>\n",
              "      <td>0</td>\n",
              "    </tr>\n",
              "    <tr>\n",
              "      <th>16</th>\n",
              "      <td>44</td>\n",
              "      <td>The Wind Rises</td>\n",
              "      <td>7.8</td>\n",
              "      <td>1</td>\n",
              "      <td>1</td>\n",
              "      <td>0</td>\n",
              "      <td>0</td>\n",
              "      <td>0</td>\n",
              "      <td>0</td>\n",
              "      <td>0</td>\n",
              "    </tr>\n",
              "    <tr>\n",
              "      <th>17</th>\n",
              "      <td>65</td>\n",
              "      <td>Spirited Away</td>\n",
              "      <td>8.6</td>\n",
              "      <td>0</td>\n",
              "      <td>0</td>\n",
              "      <td>0</td>\n",
              "      <td>0</td>\n",
              "      <td>0</td>\n",
              "      <td>0</td>\n",
              "      <td>0</td>\n",
              "    </tr>\n",
              "    <tr>\n",
              "      <th>18</th>\n",
              "      <td>48</td>\n",
              "      <td>Finding Forrester</td>\n",
              "      <td>7.3</td>\n",
              "      <td>0</td>\n",
              "      <td>1</td>\n",
              "      <td>0</td>\n",
              "      <td>0</td>\n",
              "      <td>0</td>\n",
              "      <td>0</td>\n",
              "      <td>0</td>\n",
              "    </tr>\n",
              "    <tr>\n",
              "      <th>19</th>\n",
              "      <td>27</td>\n",
              "      <td>The Fountain</td>\n",
              "      <td>7.3</td>\n",
              "      <td>0</td>\n",
              "      <td>0</td>\n",
              "      <td>0</td>\n",
              "      <td>0</td>\n",
              "      <td>0</td>\n",
              "      <td>0</td>\n",
              "      <td>0</td>\n",
              "    </tr>\n",
              "    <tr>\n",
              "      <th>20</th>\n",
              "      <td>57</td>\n",
              "      <td>The DaVinci Code</td>\n",
              "      <td>6.6</td>\n",
              "      <td>0</td>\n",
              "      <td>0</td>\n",
              "      <td>1</td>\n",
              "      <td>0</td>\n",
              "      <td>0</td>\n",
              "      <td>1</td>\n",
              "      <td>0</td>\n",
              "    </tr>\n",
              "    <tr>\n",
              "      <th>21</th>\n",
              "      <td>57</td>\n",
              "      <td>Stand and Deliver</td>\n",
              "      <td>7.3</td>\n",
              "      <td>0</td>\n",
              "      <td>1</td>\n",
              "      <td>0</td>\n",
              "      <td>0</td>\n",
              "      <td>0</td>\n",
              "      <td>0</td>\n",
              "      <td>0</td>\n",
              "    </tr>\n",
              "    <tr>\n",
              "      <th>22</th>\n",
              "      <td>14</td>\n",
              "      <td>The Terminator</td>\n",
              "      <td>8.0</td>\n",
              "      <td>0</td>\n",
              "      <td>0</td>\n",
              "      <td>0</td>\n",
              "      <td>0</td>\n",
              "      <td>0</td>\n",
              "      <td>0</td>\n",
              "      <td>0</td>\n",
              "    </tr>\n",
              "    <tr>\n",
              "      <th>23</th>\n",
              "      <td>69</td>\n",
              "      <td>21 Jump Street</td>\n",
              "      <td>7.2</td>\n",
              "      <td>0</td>\n",
              "      <td>0</td>\n",
              "      <td>0</td>\n",
              "      <td>1</td>\n",
              "      <td>1</td>\n",
              "      <td>0</td>\n",
              "      <td>0</td>\n",
              "    </tr>\n",
              "    <tr>\n",
              "      <th>24</th>\n",
              "      <td>98</td>\n",
              "      <td>The Avengers</td>\n",
              "      <td>8.1</td>\n",
              "      <td>0</td>\n",
              "      <td>0</td>\n",
              "      <td>0</td>\n",
              "      <td>0</td>\n",
              "      <td>0</td>\n",
              "      <td>0</td>\n",
              "      <td>0</td>\n",
              "    </tr>\n",
              "    <tr>\n",
              "      <th>25</th>\n",
              "      <td>17</td>\n",
              "      <td>Thor: Ragnarok</td>\n",
              "      <td>7.9</td>\n",
              "      <td>0</td>\n",
              "      <td>0</td>\n",
              "      <td>0</td>\n",
              "      <td>1</td>\n",
              "      <td>0</td>\n",
              "      <td>0</td>\n",
              "      <td>0</td>\n",
              "    </tr>\n",
              "    <tr>\n",
              "      <th>26</th>\n",
              "      <td>12</td>\n",
              "      <td>Spirit: Stallion of the Cimarron</td>\n",
              "      <td>7.1</td>\n",
              "      <td>0</td>\n",
              "      <td>0</td>\n",
              "      <td>0</td>\n",
              "      <td>0</td>\n",
              "      <td>0</td>\n",
              "      <td>0</td>\n",
              "      <td>0</td>\n",
              "    </tr>\n",
              "    <tr>\n",
              "      <th>27</th>\n",
              "      <td>1</td>\n",
              "      <td>Hacksaw Ridge</td>\n",
              "      <td>8.2</td>\n",
              "      <td>1</td>\n",
              "      <td>1</td>\n",
              "      <td>0</td>\n",
              "      <td>0</td>\n",
              "      <td>0</td>\n",
              "      <td>0</td>\n",
              "      <td>1</td>\n",
              "    </tr>\n",
              "    <tr>\n",
              "      <th>28</th>\n",
              "      <td>86</td>\n",
              "      <td>12 Years a Slave</td>\n",
              "      <td>8.1</td>\n",
              "      <td>1</td>\n",
              "      <td>1</td>\n",
              "      <td>0</td>\n",
              "      <td>0</td>\n",
              "      <td>0</td>\n",
              "      <td>0</td>\n",
              "      <td>1</td>\n",
              "    </tr>\n",
              "    <tr>\n",
              "      <th>29</th>\n",
              "      <td>46</td>\n",
              "      <td>Queen of Katwe</td>\n",
              "      <td>7.4</td>\n",
              "      <td>1</td>\n",
              "      <td>1</td>\n",
              "      <td>0</td>\n",
              "      <td>0</td>\n",
              "      <td>0</td>\n",
              "      <td>0</td>\n",
              "      <td>0</td>\n",
              "    </tr>\n",
              "  </tbody>\n",
              "</table>\n",
              "</div>"
            ],
            "text/plain": [
              "    Movie ID                        Movie Name  ...  Mystery  History\n",
              "0         58                The Imitation Game  ...        0        0\n",
              "1          8                        Ex Machina  ...        1        0\n",
              "2         46                  A Beautiful Mind  ...        0        0\n",
              "3         62                 Good Will Hunting  ...        0        0\n",
              "4         97                      Forrest Gump  ...        0        0\n",
              "5         98                                21  ...        0        1\n",
              "6         31                            Gifted  ...        0        0\n",
              "7          3               Travelling Salesman  ...        1        0\n",
              "8         51                            Avatar  ...        0        0\n",
              "9         47                    The Karate Kid  ...        0        0\n",
              "10        50            A Brilliant Young Mind  ...        0        0\n",
              "11        49                    A Time To Kill  ...        0        0\n",
              "12        30                      Interstellar  ...        0        0\n",
              "13        94           The Wolf of Wall Street  ...        0        0\n",
              "14         6                     Black Panther  ...        0        0\n",
              "15        73                         Inception  ...        0        0\n",
              "16        44                    The Wind Rises  ...        0        0\n",
              "17        65                     Spirited Away  ...        0        0\n",
              "18        48                 Finding Forrester  ...        0        0\n",
              "19        27                      The Fountain  ...        0        0\n",
              "20        57                  The DaVinci Code  ...        1        0\n",
              "21        57                 Stand and Deliver  ...        0        0\n",
              "22        14                    The Terminator  ...        0        0\n",
              "23        69                    21 Jump Street  ...        0        0\n",
              "24        98                      The Avengers  ...        0        0\n",
              "25        17                    Thor: Ragnarok  ...        0        0\n",
              "26        12  Spirit: Stallion of the Cimarron  ...        0        0\n",
              "27         1                     Hacksaw Ridge  ...        0        1\n",
              "28        86                  12 Years a Slave  ...        0        1\n",
              "29        46                    Queen of Katwe  ...        0        0\n",
              "\n",
              "[30 rows x 10 columns]"
            ]
          },
          "metadata": {
            "tags": []
          },
          "execution_count": 9
        }
      ]
    },
    {
      "cell_type": "markdown",
      "metadata": {
        "id": "lAF2hOqKTaf5"
      },
      "source": [
        "# Building a Recommender System"
      ]
    },
    {
      "cell_type": "code",
      "metadata": {
        "id": "ffGGyKM1ZLIe"
      },
      "source": [
        "#slicing the data to only inlcude imdb rating and genres to use for the model\n",
        "kNN_data = data[['IMDB Rating', 'Biography', 'Drama', 'Thriller', 'Comedy', 'Crime', 'Mystery', 'History']]"
      ],
      "execution_count": 10,
      "outputs": []
    },
    {
      "cell_type": "code",
      "metadata": {
        "colab": {
          "base_uri": "https://localhost:8080/"
        },
        "id": "MR0FvFu8Tnb8",
        "outputId": "2ebf889c-1e03-4557-cbde-5c5548b38405"
      },
      "source": [
        "#building the model and testing it\n",
        "neigh = NearestNeighbors(n_neighbors=5, algorithm='brute') #using brute bc the dataset is small\n",
        "neigh.fit(kNN_data)\n",
        "distances, indices = neigh.kneighbors(kNN_data)\n",
        "indices #returns indexes of 5 similar titles for each row in order"
      ],
      "execution_count": 11,
      "outputs": [
        {
          "output_type": "execute_result",
          "data": {
            "text/plain": [
              "array([[ 0, 16,  2, 29, 28],\n",
              "       [ 1,  6, 21, 18, 10],\n",
              "       [ 2, 16, 29, 27,  3],\n",
              "       [ 3, 12,  4,  6, 18],\n",
              "       [ 4, 12,  3, 15, 17],\n",
              "       [ 5,  9, 10, 18, 21],\n",
              "       [ 6, 18, 21,  9, 10],\n",
              "       [ 7, 20, 10,  9, 21],\n",
              "       [ 8, 22, 24, 14, 19],\n",
              "       [10,  9, 21, 18,  6],\n",
              "       [10,  9, 21, 18,  6],\n",
              "       [11, 18, 21,  6,  9],\n",
              "       [12,  4,  3,  6, 17],\n",
              "       [13, 23, 25,  2, 24],\n",
              "       [14, 19, 26,  8, 22],\n",
              "       [15, 17, 24, 22,  8],\n",
              "       [16, 29,  2,  0,  6],\n",
              "       [17, 15, 24, 22,  8],\n",
              "       [18, 21, 10,  9,  6],\n",
              "       [19, 14, 26,  8, 22],\n",
              "       [20, 26, 19,  7, 14],\n",
              "       [18, 21, 10,  9,  6],\n",
              "       [22,  8, 24, 17, 14],\n",
              "       [23, 25, 13, 19, 26],\n",
              "       [24, 22,  8, 17, 14],\n",
              "       [25,  8, 22, 24, 14],\n",
              "       [26, 19, 14,  8, 22],\n",
              "       [27, 28,  2, 16, 29],\n",
              "       [28, 27,  2, 16, 29],\n",
              "       [29, 16,  2, 18, 21]])"
            ]
          },
          "metadata": {
            "tags": []
          },
          "execution_count": 11
        }
      ]
    },
    {
      "cell_type": "code",
      "metadata": {
        "id": "Is8sC_PmjTCu"
      },
      "source": [
        "#appending 'The Post' to the dataset\n",
        "data.loc[len(data.index)] = [100, 'The Post', 7.2, 1, 1, 0, 0, 0, 0, 1]\n",
        "\n",
        "#rerunning to ensure 'The Post' is included\n",
        "kNN_data = data[['IMDB Rating', 'Biography', 'Drama', 'Thriller', 'Comedy', 'Crime', 'Mystery', 'History']]"
      ],
      "execution_count": 12,
      "outputs": []
    },
    {
      "cell_type": "code",
      "metadata": {
        "colab": {
          "base_uri": "https://localhost:8080/"
        },
        "id": "3tbZoJ_QksMP",
        "outputId": "bd0bdb94-8ab6-45a1-d877-26a8ee32d0b9"
      },
      "source": [
        "#rerunning the model but selecting only for index 30 (The Post)\n",
        "neigh = NearestNeighbors(n_neighbors=5, algorithm='brute')\n",
        "neigh.fit(kNN_data)\n",
        "distances, indices = neigh.kneighbors(kNN_data)\n",
        "indices[30]"
      ],
      "execution_count": 13,
      "outputs": [
        {
          "output_type": "execute_result",
          "data": {
            "text/plain": [
              "array([30, 28, 27, 29, 16])"
            ]
          },
          "metadata": {
            "tags": []
          },
          "execution_count": 13
        }
      ]
    },
    {
      "cell_type": "code",
      "metadata": {
        "colab": {
          "base_uri": "https://localhost:8080/"
        },
        "id": "eBc70BKalWAS",
        "outputId": "96864451-3b4c-45de-e97b-ffe9857dcc54"
      },
      "source": [
        "#Returning movies most similar to The Post according to IMBD Score and Genre\n",
        "print(data.loc[[30,28,27,29,16]])"
      ],
      "execution_count": 14,
      "outputs": [
        {
          "output_type": "stream",
          "text": [
            "    Movie ID        Movie Name  IMDB Rating  ...  Crime  Mystery  History\n",
            "30       100          The Post          7.2  ...      0        0        1\n",
            "28        86  12 Years a Slave          8.1  ...      0        0        1\n",
            "27         1     Hacksaw Ridge          8.2  ...      0        0        1\n",
            "29        46    Queen of Katwe          7.4  ...      0        0        0\n",
            "16        44    The Wind Rises          7.8  ...      0        0        0\n",
            "\n",
            "[5 rows x 10 columns]\n"
          ],
          "name": "stdout"
        }
      ]
    }
  ]
}